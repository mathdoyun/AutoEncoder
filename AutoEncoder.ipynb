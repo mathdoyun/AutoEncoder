{
 "cells": [
  {
   "cell_type": "code",
   "execution_count": 5,
   "metadata": {},
   "outputs": [],
   "source": [
    "import matplotlib.pyplot as plt\n",
    "import numpy as np\n",
    "import torch\n",
    "\n",
    "from torchvision.datasets.mnist import MNIST\n",
    "from torchvision.transforms import ToTensor\n",
    "\n",
    "import warnings\n",
    "warnings.filterwarnings(action='ignore')\n",
    "\n",
    "def gaussian_noise(x, scale=0.8):\n",
    "    gaussian_data_x = x + np.random.normal(\n",
    "        loc=0,\n",
    "        scale=scale,\n",
    "        size=x.shape\n",
    "    )\n",
    "\n",
    "    gaussian_data_x = np.clip(gaussian_data_x, 0, 1)\n",
    "    \n",
    "    gaussian_data_x = torch.tensor(gaussian_data_x)\n",
    "    gaussian_data_x = gaussian_data_x.type(torch.FloatTensor)\n",
    "    return gaussian_data_x"
   ]
  },
  {
   "cell_type": "code",
   "execution_count": 6,
   "metadata": {},
   "outputs": [
    {
     "data": {
      "image/png": "[encoded data removed]",
      "text/plain": [
       "<Figure size 432x288 with 2 Axes>"
      ]
     },
     "metadata": {
      "needs_background": "light"
     },
     "output_type": "display_data"
    }
   ],
   "source": [
    "training_data = MNIST(\n",
    "    root=\"./\",\n",
    "    train=True,\n",
    "    download=True,\n",
    "    transform=ToTensor()\n",
    ")\n",
    "\n",
    "test_data = MNIST(\n",
    "    root=\"./\",\n",
    "    train=False,\n",
    "    download=True,\n",
    "    transform=ToTensor()\n",
    ")\n",
    "\n",
    "img = training_data.data[0]\n",
    "gaussian = gaussian_noise(img)\n",
    "\n",
    "plt.subplot(1, 2, 1)\n",
    "plt.title(\"original\")\n",
    "plt.imshow(img)\n",
    "plt.subplot(1, 2, 2)\n",
    "plt.title(\"noisy\")\n",
    "plt.imshow(gaussian)\n",
    "plt.show()"
   ]
  },
  {
   "cell_type": "code",
   "execution_count": 10,
   "metadata": {},
   "outputs": [],
   "source": [
    "from torch.utils.data.dataset import Dataset\n",
    "\n",
    "class Denoising(Dataset):\n",
    "    def __init__(self):\n",
    "        self.mnist = MNIST(\n",
    "            root=\"./\",\n",
    "            train=True,\n",
    "            download=True,\n",
    "            transform=ToTensor()\n",
    "        )\n",
    "        self.data = []\n",
    "        \n",
    "        for i in range(len(self.mnist)):\n",
    "            noisy_input = gaussian_noise(self.mnist.data[i])\n",
    "            input_tensor = torch.tensor(noisy_input)\n",
    "            self.data.append(torch.unsqueeze(input_tensor, dim=0))\n",
    "    \n",
    "    def __len__(self):\n",
    "        return len(self.data)\n",
    "    \n",
    "    def __getitem__(self, i):\n",
    "        data = self.data[i]\n",
    "        \n",
    "        label = self.mnist.data[i]/255\n",
    "        \n",
    "        return data, label"
   ]
  },
  {
   "cell_type": "code",
   "execution_count": 11,
   "metadata": {},
   "outputs": [],
   "source": [
    "import torch.nn as nn\n",
    "\n",
    "class BasicBlock(nn.Module):\n",
    "    def __init__(self, in_channels, out_channels, hidden_dim):\n",
    "        super(BasicBlock, self).__init__()\n",
    "        \n",
    "        self.conv1 = nn.Conv2d(in_channels, hidden_dim, kernel_size=3, padding=1)\n",
    "        self.conv2 = nn.Conv2d(hidden_dim, out_channels, kernel_size=3, padding=1)\n",
    "        self.relu = nn.ReLU()\n",
    "    \n",
    "    def forward(self, x):\n",
    "        x = self.conv1(x)\n",
    "        x = self.relu(x)\n",
    "        x = self.conv2(x)\n",
    "        x = self.relu(x)\n",
    "        \n",
    "        return x"
   ]
  },
  {
   "cell_type": "code",
   "execution_count": 12,
   "metadata": {},
   "outputs": [],
   "source": [
    "class Encoder(nn.Module):\n",
    "    def __init__(self):\n",
    "        super(Encoder, self).__init__()\n",
    "        \n",
    "        self.conv1 = BasicBlock(in_channels=1, out_channels=16, hidden_dim=16)\n",
    "        self.conv2 = BasicBlock(in_channels=16, out_channels=8, hidden_dim=8)\n",
    "        \n",
    "        self.pool = nn.AvgPool2d(kernel_size=2, stride=2)\n",
    "    \n",
    "    def forward(self, x):\n",
    "        x = self.conv1(x)\n",
    "        x = self.pool(x)\n",
    "        x = self.conv2(x)\n",
    "        x = self.pool(x)\n",
    "        \n",
    "        return x"
   ]
  },
  {
   "cell_type": "code",
   "execution_count": 13,
   "metadata": {},
   "outputs": [],
   "source": [
    "class Decoder(nn.Module):\n",
    "    def __init__(self):\n",
    "        super(Decoder, self).__init__()\n",
    "        self.conv1 = BasicBlock(in_channels=8, out_channels=8, hidden_dim=8)\n",
    "        self.conv2 = BasicBlock(in_channels=8, out_channels=16, hidden_dim=16)\n",
    "        \n",
    "        self.conv3 = nn.Conv2d(in_channels=16, out_channels=1, kernel_size=3, padding=1)\n",
    "        \n",
    "        self.upsample1 = nn.ConvTranspose2d(8, 8, kernel_size=2, stride=2)\n",
    "        self.upsample2 = nn.ConvTranspose2d(16, 16, kernel_size=2, stride=2)\n",
    "        \n",
    "    def forward(self, x):\n",
    "        x = self.conv1(x)\n",
    "        x = self.upsample1(x)\n",
    "        x = self.conv2(x)\n",
    "        x = self.upsample2(x)\n",
    "        x = self.conv3(x)\n",
    "        \n",
    "        return x"
   ]
  },
  {
   "cell_type": "code",
   "execution_count": 14,
   "metadata": {},
   "outputs": [],
   "source": [
    "class CAE(nn.Module):\n",
    "    def __init__(self):\n",
    "        super(CAE, self).__init__()\n",
    "        \n",
    "        self.enc = Encoder()\n",
    "        self.dec = Decoder()\n",
    "        \n",
    "    def forward(self, x):\n",
    "        x = self.enc(x)\n",
    "        x = self.dec(x)\n",
    "        x = torch.squeeze(x)\n",
    "        \n",
    "        return x"
   ]
  },
  {
   "cell_type": "code",
   "execution_count": 16,
   "metadata": {},
   "outputs": [
    {
     "name": "stderr",
     "output_type": "stream",
     "text": [
      "epoch1 loss:0.01262722909450531: 100%|██████████| 1875/1875 [00:43<00:00, 42.70it/s] \n",
      "epoch2 loss:0.010873369872570038: 100%|██████████| 1875/1875 [00:44<00:00, 42.49it/s] \n",
      "epoch3 loss:0.009903610683977604: 100%|██████████| 1875/1875 [00:43<00:00, 43.16it/s] \n",
      "epoch4 loss:0.009384309872984886: 100%|██████████| 1875/1875 [00:43<00:00, 43.46it/s] \n",
      "epoch5 loss:0.00934428721666336: 100%|██████████| 1875/1875 [00:43<00:00, 43.53it/s]  \n",
      "epoch6 loss:0.009035946801304817: 100%|██████████| 1875/1875 [00:44<00:00, 42.60it/s] \n",
      "epoch7 loss:0.008900830522179604: 100%|██████████| 1875/1875 [00:44<00:00, 42.45it/s] \n",
      "epoch8 loss:0.008690952323377132: 100%|██████████| 1875/1875 [00:43<00:00, 42.72it/s] \n",
      "epoch9 loss:0.00867426861077547: 100%|██████████| 1875/1875 [00:43<00:00, 42.74it/s]  \n",
      "epoch10 loss:0.00845743715763092: 100%|██████████| 1875/1875 [00:43<00:00, 43.22it/s]  \n",
      "epoch11 loss:0.008269893005490303: 100%|██████████| 1875/1875 [00:43<00:00, 42.96it/s] \n",
      "epoch12 loss:0.007981227710843086: 100%|██████████| 1875/1875 [00:43<00:00, 43.15it/s] \n",
      "epoch13 loss:0.007878609001636505: 100%|██████████| 1875/1875 [00:43<00:00, 43.13it/s] \n",
      "epoch14 loss:0.007792261894792318: 100%|██████████| 1875/1875 [00:43<00:00, 43.03it/s] \n",
      "epoch15 loss:0.007781061809509993: 100%|██████████| 1875/1875 [00:44<00:00, 42.30it/s] \n",
      "epoch16 loss:0.007596514653414488: 100%|██████████| 1875/1875 [00:44<00:00, 42.41it/s] \n",
      "epoch17 loss:0.007577324286103249: 100%|██████████| 1875/1875 [00:48<00:00, 38.96it/s] \n",
      "epoch18 loss:0.007542712148278952: 100%|██████████| 1875/1875 [00:44<00:00, 42.21it/s] \n",
      "epoch19 loss:0.007565929088741541: 100%|██████████| 1875/1875 [00:43<00:00, 42.93it/s] \n",
      "epoch20 loss:0.007560527417808771: 100%|██████████| 1875/1875 [00:43<00:00, 43.14it/s] \n"
     ]
    }
   ],
   "source": [
    "import tqdm\n",
    "\n",
    "from torch.utils.data.dataloader import DataLoader\n",
    "from torch.optim.adam import Adam\n",
    "\n",
    "device = \"cuda\" if torch.cuda.is_available() else \"cpu\"\n",
    "\n",
    "trainset = Denoising()\n",
    "train_loader = DataLoader(trainset, batch_size=32)\n",
    "\n",
    "model = CAE().to(device)\n",
    "\n",
    "lr = 0.001\n",
    "optim = Adam(params=model.parameters(), lr=lr)\n",
    "\n",
    "for epoch in range(20):\n",
    "    iterator = tqdm.tqdm(train_loader)\n",
    "    \n",
    "    for data, label in iterator:\n",
    "        optim.zero_grad()\n",
    "        pred = model(data.to(device))\n",
    "        \n",
    "        loss = nn.MSELoss()(torch.squeeze(pred), label.to(device))\n",
    "        loss.backward()\n",
    "        optim.step()\n",
    "        iterator.set_description(f\"epoch{epoch+1} loss:{loss.item()}\")\n",
    "        \n",
    "torch.save(model.state_dict(), \"./CAE.pth\")"
   ]
  },
  {
   "cell_type": "code",
   "execution_count": 17,
   "metadata": {},
   "outputs": [
    {
     "data": {
      "image/png": "[encoded data removed]",
      "text/plain": [
       "<Figure size 432x288 with 3 Axes>"
      ]
     },
     "metadata": {
      "needs_background": "light"
     },
     "output_type": "display_data"
    }
   ],
   "source": [
    "model.cpu()\n",
    "\n",
    "with torch.no_grad():\n",
    "    model.load_state_dict(torch.load(\"./CAE.pth\", map_location=device))\n",
    "    \n",
    "    img = test_data.data[0]\n",
    "    gaussian = gaussian_noise(img)\n",
    "    \n",
    "    input = torch.unsqueeze(gaussian, dim=0)\n",
    "    input.type(torch.FloatTensor)\n",
    "    input.to(device)\n",
    "    input = torch.unsqueeze(input, dim=0)\n",
    "    \n",
    "    plt.subplot(1, 3, 1)\n",
    "    plt.imshow(torch.squeeze(gaussian))\n",
    "    plt.subplot(1, 3, 2)\n",
    "    plt.imshow(torch.squeeze(model(input)))\n",
    "    plt.subplot(1, 3, 3)\n",
    "    plt.imshow(torch.squeeze(img))\n",
    "    plt.show()"
   ]
  }
 ],
 "metadata": {
  "kernelspec": {
   "display_name": "Python 3",
   "language": "python",
   "name": "python3"
  },
  "language_info": {
   "codemirror_mode": {
    "name": "ipython",
    "version": 3
   },
   "file_extension": ".py",
   "mimetype": "text/x-python",
   "name": "python",
   "nbconvert_exporter": "python",
   "pygments_lexer": "ipython3",
   "version": "3.6.8"
  }
 },
 "nbformat": 4,
 "nbformat_minor": 2
}
